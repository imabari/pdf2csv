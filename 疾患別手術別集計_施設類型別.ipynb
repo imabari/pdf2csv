{
  "nbformat": 4,
  "nbformat_minor": 0,
  "metadata": {
    "colab": {
      "name": "疾患別手術別集計_施設類型別.ipynb",
      "provenance": [],
      "authorship_tag": "ABX9TyOQ3hXWTvGkog1YhQzm6GTL",
      "include_colab_link": true
    },
    "kernelspec": {
      "name": "python3",
      "display_name": "Python 3"
    },
    "language_info": {
      "name": "python"
    }
  },
  "cells": [
    {
      "cell_type": "markdown",
      "metadata": {
        "id": "view-in-github",
        "colab_type": "text"
      },
      "source": [
        "<a href=\"https://colab.research.google.com/github/imabari/pdf2csv/blob/main/%E7%96%BE%E6%82%A3%E5%88%A5%E6%89%8B%E8%A1%93%E5%88%A5%E9%9B%86%E8%A8%88_%E6%96%BD%E8%A8%AD%E9%A1%9E%E5%9E%8B%E5%88%A5.ipynb\" target=\"_parent\"><img src=\"https://colab.research.google.com/assets/colab-badge.svg\" alt=\"Open In Colab\"/></a>"
      ]
    },
    {
      "cell_type": "markdown",
      "source": [
        "# 実行方法\n",
        "\n",
        "1. 上の「Open in Colab」をクリック（Googleアカウント必要）\n",
        "2. 設定の年度とURLを入力\n",
        "3. 上部メニューより「ランタイム」を選択\n",
        "4. 「すべてのセルを実行」を選択\n",
        "5. 前処理したデータが自動ダウンロードされます"
      ],
      "metadata": {
        "id": "--AjkojE9Da-"
      }
    },
    {
      "cell_type": "markdown",
      "source": [
        "# 設定"
      ],
      "metadata": {
        "id": "60H0usei7eIt"
      }
    },
    {
      "cell_type": "code",
      "source": [
        "#@title 年度\n",
        "\n",
        "year =  2020#@param {type:\"integer\"}"
      ],
      "metadata": {
        "cellView": "form",
        "id": "u4sIPdO06JvN"
      },
      "execution_count": 1,
      "outputs": []
    },
    {
      "cell_type": "code",
      "source": [
        "#@title URL\n",
        "\n",
        "url = \"https://www.mhlw.go.jp/content/12404000/000917110.xlsx\" #@param {type:\"string\"}\n"
      ],
      "metadata": {
        "cellView": "form",
        "id": "vcRcfzHi34co"
      },
      "execution_count": 2,
      "outputs": []
    },
    {
      "cell_type": "markdown",
      "source": [
        "# プログラム"
      ],
      "metadata": {
        "id": "49m9DO6E6eMN"
      }
    },
    {
      "cell_type": "code",
      "source": [
        "import pandas as pd"
      ],
      "metadata": {
        "id": "iyqJzQGRfvE1"
      },
      "execution_count": 3,
      "outputs": []
    },
    {
      "cell_type": "code",
      "source": [
        "df0 = pd.read_excel(url)"
      ],
      "metadata": {
        "id": "I5eYFCICfxNd"
      },
      "execution_count": 4,
      "outputs": []
    },
    {
      "cell_type": "code",
      "source": [
        "# 列名\n",
        "\n",
        "df0.columns = [\n",
        "    \"疾患コード\",\n",
        "    \"疾患名\",\n",
        "    \"件数／在院日数\",\n",
        "    \"手術診断群分類番号\",\n",
        "    \"大学病院本院群_件数\",\n",
        "    \"大学病院本院群_割合\",\n",
        "    \"DPC特定病院群_件数\",\n",
        "    \"DPC特定病院群_割合\",\n",
        "    \"DPC標準病院群_件数\",\n",
        "    \"DPC標準病院群_割合\",\n",
        "    \"DPC準備病院_件数\",\n",
        "    \"DPC準備病院_割合\",\n",
        "    \"出来高算定病院_件数\",\n",
        "    \"出来高算定病院_割合\",\n",
        "]"
      ],
      "metadata": {
        "id": "cyiEk6ozhDsF"
      },
      "execution_count": 5,
      "outputs": []
    },
    {
      "cell_type": "code",
      "source": [
        "# 補完\n",
        "\n",
        "df0[\"疾患コード\"] = df0[\"疾患コード\"].fillna(method=\"ffill\")\n",
        "df0[\"疾患名\"] = df0[\"疾患名\"].fillna(method=\"ffill\")\n",
        "df0[\"件数／在院日数\"] = df0[\"件数／在院日数\"].fillna(method=\"ffill\")"
      ],
      "metadata": {
        "id": "YV9JqcMVf6n2"
      },
      "execution_count": 6,
      "outputs": []
    },
    {
      "cell_type": "code",
      "source": [
        "# 縦持ちに変換\n",
        "\n",
        "df1 = df0.set_index([\"疾患コード\", \"疾患名\", \"件数／在院日数\", \"手術診断群分類番号\"])\n",
        "df2 = df1.stack().reset_index()"
      ],
      "metadata": {
        "id": "__vbz1DjifPe"
      },
      "execution_count": 7,
      "outputs": []
    },
    {
      "cell_type": "code",
      "source": [
        "# 年度追加\n",
        "\n",
        "df2[\"年度\"] = year"
      ],
      "metadata": {
        "id": "XdcD3d536r5v"
      },
      "execution_count": 8,
      "outputs": []
    },
    {
      "cell_type": "code",
      "source": [
        "# グループ分け\n",
        "\n",
        "df2[[\"種類\", \"区分\"]] = df2[\"level_4\"].str.split(\"_\", expand=True)\n",
        "grp = df2.groupby(\"区分\")"
      ],
      "metadata": {
        "id": "ITGHO310jWTu"
      },
      "execution_count": 9,
      "outputs": []
    },
    {
      "cell_type": "code",
      "source": [
        "def col_rename(df0, name):\n",
        "\n",
        "    df0.rename(columns={0: name}, inplace=True)\n",
        "    df1 = df0.reindex(columns=[\"年度\", \"疾患コード\", \"疾患名\", \"件数／在院日数\", \"手術診断群分類番号\", \"種類\", name]).reset_index(drop=True)\n",
        "\n",
        "    return df1"
      ],
      "metadata": {
        "id": "i90iVozomE92"
      },
      "execution_count": 10,
      "outputs": []
    },
    {
      "cell_type": "markdown",
      "source": [
        "## 件数"
      ],
      "metadata": {
        "id": "wWKl9atj7r7-"
      }
    },
    {
      "cell_type": "code",
      "source": [
        "df3 = col_rename(grp.get_group(\"件数\").copy(), \"件数\")\n",
        "df3"
      ],
      "metadata": {
        "id": "NSAZeCzEkabF",
        "colab": {
          "base_uri": "https://localhost:8080/",
          "height": 424
        },
        "outputId": "cc4d3686-272a-4ccb-df20-74b8b7ffab6c"
      },
      "execution_count": 11,
      "outputs": [
        {
          "output_type": "execute_result",
          "data": {
            "text/plain": [
              "         年度   疾患コード      疾患名 件数／在院日数    手術診断群分類番号        種類            件数\n",
              "0      2019  010010      脳腫瘍      件数           99   大学病院本院群   6814.000000\n",
              "1      2019  010010      脳腫瘍      件数           99  DPC特定病院群   6916.000000\n",
              "2      2019  010010      脳腫瘍      件数           99  DPC標準病院群  17410.000000\n",
              "3      2019  010010      脳腫瘍      件数           99   DPC準備病院    868.000000\n",
              "4      2019  010010      脳腫瘍      件数           99   出来高算定病院   3491.000000\n",
              "...     ...     ...      ...     ...          ...       ...           ...\n",
              "13023  2019  180060  その他の新生物    在院日数  97（輸血以外の再掲）   大学病院本院群      7.527273\n",
              "13024  2019  180060  その他の新生物    在院日数  97（輸血以外の再掲）  DPC特定病院群      5.813819\n",
              "13025  2019  180060  その他の新生物    在院日数  97（輸血以外の再掲）  DPC標準病院群      5.850109\n",
              "13026  2019  180060  その他の新生物    在院日数  97（輸血以外の再掲）   DPC準備病院      8.542222\n",
              "13027  2019  180060  その他の新生物    在院日数  97（輸血以外の再掲）   出来高算定病院      7.097345\n",
              "\n",
              "[13028 rows x 7 columns]"
            ],
            "text/html": [
              "\n",
              "  <div id=\"df-67c3b8c3-43bd-45e8-b6df-4e514f9e22ce\">\n",
              "    <div class=\"colab-df-container\">\n",
              "      <div>\n",
              "<style scoped>\n",
              "    .dataframe tbody tr th:only-of-type {\n",
              "        vertical-align: middle;\n",
              "    }\n",
              "\n",
              "    .dataframe tbody tr th {\n",
              "        vertical-align: top;\n",
              "    }\n",
              "\n",
              "    .dataframe thead th {\n",
              "        text-align: right;\n",
              "    }\n",
              "</style>\n",
              "<table border=\"1\" class=\"dataframe\">\n",
              "  <thead>\n",
              "    <tr style=\"text-align: right;\">\n",
              "      <th></th>\n",
              "      <th>年度</th>\n",
              "      <th>疾患コード</th>\n",
              "      <th>疾患名</th>\n",
              "      <th>件数／在院日数</th>\n",
              "      <th>手術診断群分類番号</th>\n",
              "      <th>種類</th>\n",
              "      <th>件数</th>\n",
              "    </tr>\n",
              "  </thead>\n",
              "  <tbody>\n",
              "    <tr>\n",
              "      <th>0</th>\n",
              "      <td>2019</td>\n",
              "      <td>010010</td>\n",
              "      <td>脳腫瘍</td>\n",
              "      <td>件数</td>\n",
              "      <td>99</td>\n",
              "      <td>大学病院本院群</td>\n",
              "      <td>6814.000000</td>\n",
              "    </tr>\n",
              "    <tr>\n",
              "      <th>1</th>\n",
              "      <td>2019</td>\n",
              "      <td>010010</td>\n",
              "      <td>脳腫瘍</td>\n",
              "      <td>件数</td>\n",
              "      <td>99</td>\n",
              "      <td>DPC特定病院群</td>\n",
              "      <td>6916.000000</td>\n",
              "    </tr>\n",
              "    <tr>\n",
              "      <th>2</th>\n",
              "      <td>2019</td>\n",
              "      <td>010010</td>\n",
              "      <td>脳腫瘍</td>\n",
              "      <td>件数</td>\n",
              "      <td>99</td>\n",
              "      <td>DPC標準病院群</td>\n",
              "      <td>17410.000000</td>\n",
              "    </tr>\n",
              "    <tr>\n",
              "      <th>3</th>\n",
              "      <td>2019</td>\n",
              "      <td>010010</td>\n",
              "      <td>脳腫瘍</td>\n",
              "      <td>件数</td>\n",
              "      <td>99</td>\n",
              "      <td>DPC準備病院</td>\n",
              "      <td>868.000000</td>\n",
              "    </tr>\n",
              "    <tr>\n",
              "      <th>4</th>\n",
              "      <td>2019</td>\n",
              "      <td>010010</td>\n",
              "      <td>脳腫瘍</td>\n",
              "      <td>件数</td>\n",
              "      <td>99</td>\n",
              "      <td>出来高算定病院</td>\n",
              "      <td>3491.000000</td>\n",
              "    </tr>\n",
              "    <tr>\n",
              "      <th>...</th>\n",
              "      <td>...</td>\n",
              "      <td>...</td>\n",
              "      <td>...</td>\n",
              "      <td>...</td>\n",
              "      <td>...</td>\n",
              "      <td>...</td>\n",
              "      <td>...</td>\n",
              "    </tr>\n",
              "    <tr>\n",
              "      <th>13023</th>\n",
              "      <td>2019</td>\n",
              "      <td>180060</td>\n",
              "      <td>その他の新生物</td>\n",
              "      <td>在院日数</td>\n",
              "      <td>97（輸血以外の再掲）</td>\n",
              "      <td>大学病院本院群</td>\n",
              "      <td>7.527273</td>\n",
              "    </tr>\n",
              "    <tr>\n",
              "      <th>13024</th>\n",
              "      <td>2019</td>\n",
              "      <td>180060</td>\n",
              "      <td>その他の新生物</td>\n",
              "      <td>在院日数</td>\n",
              "      <td>97（輸血以外の再掲）</td>\n",
              "      <td>DPC特定病院群</td>\n",
              "      <td>5.813819</td>\n",
              "    </tr>\n",
              "    <tr>\n",
              "      <th>13025</th>\n",
              "      <td>2019</td>\n",
              "      <td>180060</td>\n",
              "      <td>その他の新生物</td>\n",
              "      <td>在院日数</td>\n",
              "      <td>97（輸血以外の再掲）</td>\n",
              "      <td>DPC標準病院群</td>\n",
              "      <td>5.850109</td>\n",
              "    </tr>\n",
              "    <tr>\n",
              "      <th>13026</th>\n",
              "      <td>2019</td>\n",
              "      <td>180060</td>\n",
              "      <td>その他の新生物</td>\n",
              "      <td>在院日数</td>\n",
              "      <td>97（輸血以外の再掲）</td>\n",
              "      <td>DPC準備病院</td>\n",
              "      <td>8.542222</td>\n",
              "    </tr>\n",
              "    <tr>\n",
              "      <th>13027</th>\n",
              "      <td>2019</td>\n",
              "      <td>180060</td>\n",
              "      <td>その他の新生物</td>\n",
              "      <td>在院日数</td>\n",
              "      <td>97（輸血以外の再掲）</td>\n",
              "      <td>出来高算定病院</td>\n",
              "      <td>7.097345</td>\n",
              "    </tr>\n",
              "  </tbody>\n",
              "</table>\n",
              "<p>13028 rows × 7 columns</p>\n",
              "</div>\n",
              "      <button class=\"colab-df-convert\" onclick=\"convertToInteractive('df-67c3b8c3-43bd-45e8-b6df-4e514f9e22ce')\"\n",
              "              title=\"Convert this dataframe to an interactive table.\"\n",
              "              style=\"display:none;\">\n",
              "        \n",
              "  <svg xmlns=\"http://www.w3.org/2000/svg\" height=\"24px\"viewBox=\"0 0 24 24\"\n",
              "       width=\"24px\">\n",
              "    <path d=\"M0 0h24v24H0V0z\" fill=\"none\"/>\n",
              "    <path d=\"M18.56 5.44l.94 2.06.94-2.06 2.06-.94-2.06-.94-.94-2.06-.94 2.06-2.06.94zm-11 1L8.5 8.5l.94-2.06 2.06-.94-2.06-.94L8.5 2.5l-.94 2.06-2.06.94zm10 10l.94 2.06.94-2.06 2.06-.94-2.06-.94-.94-2.06-.94 2.06-2.06.94z\"/><path d=\"M17.41 7.96l-1.37-1.37c-.4-.4-.92-.59-1.43-.59-.52 0-1.04.2-1.43.59L10.3 9.45l-7.72 7.72c-.78.78-.78 2.05 0 2.83L4 21.41c.39.39.9.59 1.41.59.51 0 1.02-.2 1.41-.59l7.78-7.78 2.81-2.81c.8-.78.8-2.07 0-2.86zM5.41 20L4 18.59l7.72-7.72 1.47 1.35L5.41 20z\"/>\n",
              "  </svg>\n",
              "      </button>\n",
              "      \n",
              "  <style>\n",
              "    .colab-df-container {\n",
              "      display:flex;\n",
              "      flex-wrap:wrap;\n",
              "      gap: 12px;\n",
              "    }\n",
              "\n",
              "    .colab-df-convert {\n",
              "      background-color: #E8F0FE;\n",
              "      border: none;\n",
              "      border-radius: 50%;\n",
              "      cursor: pointer;\n",
              "      display: none;\n",
              "      fill: #1967D2;\n",
              "      height: 32px;\n",
              "      padding: 0 0 0 0;\n",
              "      width: 32px;\n",
              "    }\n",
              "\n",
              "    .colab-df-convert:hover {\n",
              "      background-color: #E2EBFA;\n",
              "      box-shadow: 0px 1px 2px rgba(60, 64, 67, 0.3), 0px 1px 3px 1px rgba(60, 64, 67, 0.15);\n",
              "      fill: #174EA6;\n",
              "    }\n",
              "\n",
              "    [theme=dark] .colab-df-convert {\n",
              "      background-color: #3B4455;\n",
              "      fill: #D2E3FC;\n",
              "    }\n",
              "\n",
              "    [theme=dark] .colab-df-convert:hover {\n",
              "      background-color: #434B5C;\n",
              "      box-shadow: 0px 1px 3px 1px rgba(0, 0, 0, 0.15);\n",
              "      filter: drop-shadow(0px 1px 2px rgba(0, 0, 0, 0.3));\n",
              "      fill: #FFFFFF;\n",
              "    }\n",
              "  </style>\n",
              "\n",
              "      <script>\n",
              "        const buttonEl =\n",
              "          document.querySelector('#df-67c3b8c3-43bd-45e8-b6df-4e514f9e22ce button.colab-df-convert');\n",
              "        buttonEl.style.display =\n",
              "          google.colab.kernel.accessAllowed ? 'block' : 'none';\n",
              "\n",
              "        async function convertToInteractive(key) {\n",
              "          const element = document.querySelector('#df-67c3b8c3-43bd-45e8-b6df-4e514f9e22ce');\n",
              "          const dataTable =\n",
              "            await google.colab.kernel.invokeFunction('convertToInteractive',\n",
              "                                                     [key], {});\n",
              "          if (!dataTable) return;\n",
              "\n",
              "          const docLinkHtml = 'Like what you see? Visit the ' +\n",
              "            '<a target=\"_blank\" href=https://colab.research.google.com/notebooks/data_table.ipynb>data table notebook</a>'\n",
              "            + ' to learn more about interactive tables.';\n",
              "          element.innerHTML = '';\n",
              "          dataTable['output_type'] = 'display_data';\n",
              "          await google.colab.output.renderOutput(dataTable, element);\n",
              "          const docLink = document.createElement('div');\n",
              "          docLink.innerHTML = docLinkHtml;\n",
              "          element.appendChild(docLink);\n",
              "        }\n",
              "      </script>\n",
              "    </div>\n",
              "  </div>\n",
              "  "
            ]
          },
          "metadata": {},
          "execution_count": 11
        }
      ]
    },
    {
      "cell_type": "code",
      "source": [
        "df3.to_csv(f\"{year}_count.csv\", encoding=\"utf_8_sig\")"
      ],
      "metadata": {
        "id": "QMq_z8jgkyFl"
      },
      "execution_count": 12,
      "outputs": []
    },
    {
      "cell_type": "markdown",
      "source": [
        "## 割合"
      ],
      "metadata": {
        "id": "PfvlE0JA7u-O"
      }
    },
    {
      "cell_type": "code",
      "source": [
        "df4 = col_rename(grp.get_group(\"割合\").copy(), \"割合\")\n",
        "df4"
      ],
      "metadata": {
        "colab": {
          "base_uri": "https://localhost:8080/",
          "height": 424
        },
        "id": "WC9plQ1wnl3l",
        "outputId": "25488348-e218-4495-beb3-79a8ea37ec1f"
      },
      "execution_count": 13,
      "outputs": [
        {
          "output_type": "execute_result",
          "data": {
            "text/plain": [
              "        年度   疾患コード      疾患名 件数／在院日数    手術診断群分類番号        種類        割合\n",
              "0     2019  010010      脳腫瘍      件数           99   大学病院本院群  0.528135\n",
              "1     2019  010010      脳腫瘍      件数           99  DPC特定病院群  0.638420\n",
              "2     2019  010010      脳腫瘍      件数           99  DPC標準病院群  0.734320\n",
              "3     2019  010010      脳腫瘍      件数           99   DPC準備病院  0.775000\n",
              "4     2019  010010      脳腫瘍      件数           99   出来高算定病院  0.877356\n",
              "...    ...     ...      ...     ...          ...       ...       ...\n",
              "6509  2019  180060  その他の新生物      件数  97（輸血以外の再掲）   大学病院本院群  0.783329\n",
              "6510  2019  180060  その他の新生物      件数  97（輸血以外の再掲）  DPC特定病院群  0.832874\n",
              "6511  2019  180060  その他の新生物      件数  97（輸血以外の再掲）  DPC標準病院群  0.833811\n",
              "6512  2019  180060  その他の新生物      件数  97（輸血以外の再掲）   DPC準備病院  0.781250\n",
              "6513  2019  180060  その他の新生物      件数  97（輸血以外の再掲）   出来高算定病院  0.739771\n",
              "\n",
              "[6514 rows x 7 columns]"
            ],
            "text/html": [
              "\n",
              "  <div id=\"df-dd46a2ea-dac6-419b-9b90-91208154372f\">\n",
              "    <div class=\"colab-df-container\">\n",
              "      <div>\n",
              "<style scoped>\n",
              "    .dataframe tbody tr th:only-of-type {\n",
              "        vertical-align: middle;\n",
              "    }\n",
              "\n",
              "    .dataframe tbody tr th {\n",
              "        vertical-align: top;\n",
              "    }\n",
              "\n",
              "    .dataframe thead th {\n",
              "        text-align: right;\n",
              "    }\n",
              "</style>\n",
              "<table border=\"1\" class=\"dataframe\">\n",
              "  <thead>\n",
              "    <tr style=\"text-align: right;\">\n",
              "      <th></th>\n",
              "      <th>年度</th>\n",
              "      <th>疾患コード</th>\n",
              "      <th>疾患名</th>\n",
              "      <th>件数／在院日数</th>\n",
              "      <th>手術診断群分類番号</th>\n",
              "      <th>種類</th>\n",
              "      <th>割合</th>\n",
              "    </tr>\n",
              "  </thead>\n",
              "  <tbody>\n",
              "    <tr>\n",
              "      <th>0</th>\n",
              "      <td>2019</td>\n",
              "      <td>010010</td>\n",
              "      <td>脳腫瘍</td>\n",
              "      <td>件数</td>\n",
              "      <td>99</td>\n",
              "      <td>大学病院本院群</td>\n",
              "      <td>0.528135</td>\n",
              "    </tr>\n",
              "    <tr>\n",
              "      <th>1</th>\n",
              "      <td>2019</td>\n",
              "      <td>010010</td>\n",
              "      <td>脳腫瘍</td>\n",
              "      <td>件数</td>\n",
              "      <td>99</td>\n",
              "      <td>DPC特定病院群</td>\n",
              "      <td>0.638420</td>\n",
              "    </tr>\n",
              "    <tr>\n",
              "      <th>2</th>\n",
              "      <td>2019</td>\n",
              "      <td>010010</td>\n",
              "      <td>脳腫瘍</td>\n",
              "      <td>件数</td>\n",
              "      <td>99</td>\n",
              "      <td>DPC標準病院群</td>\n",
              "      <td>0.734320</td>\n",
              "    </tr>\n",
              "    <tr>\n",
              "      <th>3</th>\n",
              "      <td>2019</td>\n",
              "      <td>010010</td>\n",
              "      <td>脳腫瘍</td>\n",
              "      <td>件数</td>\n",
              "      <td>99</td>\n",
              "      <td>DPC準備病院</td>\n",
              "      <td>0.775000</td>\n",
              "    </tr>\n",
              "    <tr>\n",
              "      <th>4</th>\n",
              "      <td>2019</td>\n",
              "      <td>010010</td>\n",
              "      <td>脳腫瘍</td>\n",
              "      <td>件数</td>\n",
              "      <td>99</td>\n",
              "      <td>出来高算定病院</td>\n",
              "      <td>0.877356</td>\n",
              "    </tr>\n",
              "    <tr>\n",
              "      <th>...</th>\n",
              "      <td>...</td>\n",
              "      <td>...</td>\n",
              "      <td>...</td>\n",
              "      <td>...</td>\n",
              "      <td>...</td>\n",
              "      <td>...</td>\n",
              "      <td>...</td>\n",
              "    </tr>\n",
              "    <tr>\n",
              "      <th>6509</th>\n",
              "      <td>2019</td>\n",
              "      <td>180060</td>\n",
              "      <td>その他の新生物</td>\n",
              "      <td>件数</td>\n",
              "      <td>97（輸血以外の再掲）</td>\n",
              "      <td>大学病院本院群</td>\n",
              "      <td>0.783329</td>\n",
              "    </tr>\n",
              "    <tr>\n",
              "      <th>6510</th>\n",
              "      <td>2019</td>\n",
              "      <td>180060</td>\n",
              "      <td>その他の新生物</td>\n",
              "      <td>件数</td>\n",
              "      <td>97（輸血以外の再掲）</td>\n",
              "      <td>DPC特定病院群</td>\n",
              "      <td>0.832874</td>\n",
              "    </tr>\n",
              "    <tr>\n",
              "      <th>6511</th>\n",
              "      <td>2019</td>\n",
              "      <td>180060</td>\n",
              "      <td>その他の新生物</td>\n",
              "      <td>件数</td>\n",
              "      <td>97（輸血以外の再掲）</td>\n",
              "      <td>DPC標準病院群</td>\n",
              "      <td>0.833811</td>\n",
              "    </tr>\n",
              "    <tr>\n",
              "      <th>6512</th>\n",
              "      <td>2019</td>\n",
              "      <td>180060</td>\n",
              "      <td>その他の新生物</td>\n",
              "      <td>件数</td>\n",
              "      <td>97（輸血以外の再掲）</td>\n",
              "      <td>DPC準備病院</td>\n",
              "      <td>0.781250</td>\n",
              "    </tr>\n",
              "    <tr>\n",
              "      <th>6513</th>\n",
              "      <td>2019</td>\n",
              "      <td>180060</td>\n",
              "      <td>その他の新生物</td>\n",
              "      <td>件数</td>\n",
              "      <td>97（輸血以外の再掲）</td>\n",
              "      <td>出来高算定病院</td>\n",
              "      <td>0.739771</td>\n",
              "    </tr>\n",
              "  </tbody>\n",
              "</table>\n",
              "<p>6514 rows × 7 columns</p>\n",
              "</div>\n",
              "      <button class=\"colab-df-convert\" onclick=\"convertToInteractive('df-dd46a2ea-dac6-419b-9b90-91208154372f')\"\n",
              "              title=\"Convert this dataframe to an interactive table.\"\n",
              "              style=\"display:none;\">\n",
              "        \n",
              "  <svg xmlns=\"http://www.w3.org/2000/svg\" height=\"24px\"viewBox=\"0 0 24 24\"\n",
              "       width=\"24px\">\n",
              "    <path d=\"M0 0h24v24H0V0z\" fill=\"none\"/>\n",
              "    <path d=\"M18.56 5.44l.94 2.06.94-2.06 2.06-.94-2.06-.94-.94-2.06-.94 2.06-2.06.94zm-11 1L8.5 8.5l.94-2.06 2.06-.94-2.06-.94L8.5 2.5l-.94 2.06-2.06.94zm10 10l.94 2.06.94-2.06 2.06-.94-2.06-.94-.94-2.06-.94 2.06-2.06.94z\"/><path d=\"M17.41 7.96l-1.37-1.37c-.4-.4-.92-.59-1.43-.59-.52 0-1.04.2-1.43.59L10.3 9.45l-7.72 7.72c-.78.78-.78 2.05 0 2.83L4 21.41c.39.39.9.59 1.41.59.51 0 1.02-.2 1.41-.59l7.78-7.78 2.81-2.81c.8-.78.8-2.07 0-2.86zM5.41 20L4 18.59l7.72-7.72 1.47 1.35L5.41 20z\"/>\n",
              "  </svg>\n",
              "      </button>\n",
              "      \n",
              "  <style>\n",
              "    .colab-df-container {\n",
              "      display:flex;\n",
              "      flex-wrap:wrap;\n",
              "      gap: 12px;\n",
              "    }\n",
              "\n",
              "    .colab-df-convert {\n",
              "      background-color: #E8F0FE;\n",
              "      border: none;\n",
              "      border-radius: 50%;\n",
              "      cursor: pointer;\n",
              "      display: none;\n",
              "      fill: #1967D2;\n",
              "      height: 32px;\n",
              "      padding: 0 0 0 0;\n",
              "      width: 32px;\n",
              "    }\n",
              "\n",
              "    .colab-df-convert:hover {\n",
              "      background-color: #E2EBFA;\n",
              "      box-shadow: 0px 1px 2px rgba(60, 64, 67, 0.3), 0px 1px 3px 1px rgba(60, 64, 67, 0.15);\n",
              "      fill: #174EA6;\n",
              "    }\n",
              "\n",
              "    [theme=dark] .colab-df-convert {\n",
              "      background-color: #3B4455;\n",
              "      fill: #D2E3FC;\n",
              "    }\n",
              "\n",
              "    [theme=dark] .colab-df-convert:hover {\n",
              "      background-color: #434B5C;\n",
              "      box-shadow: 0px 1px 3px 1px rgba(0, 0, 0, 0.15);\n",
              "      filter: drop-shadow(0px 1px 2px rgba(0, 0, 0, 0.3));\n",
              "      fill: #FFFFFF;\n",
              "    }\n",
              "  </style>\n",
              "\n",
              "      <script>\n",
              "        const buttonEl =\n",
              "          document.querySelector('#df-dd46a2ea-dac6-419b-9b90-91208154372f button.colab-df-convert');\n",
              "        buttonEl.style.display =\n",
              "          google.colab.kernel.accessAllowed ? 'block' : 'none';\n",
              "\n",
              "        async function convertToInteractive(key) {\n",
              "          const element = document.querySelector('#df-dd46a2ea-dac6-419b-9b90-91208154372f');\n",
              "          const dataTable =\n",
              "            await google.colab.kernel.invokeFunction('convertToInteractive',\n",
              "                                                     [key], {});\n",
              "          if (!dataTable) return;\n",
              "\n",
              "          const docLinkHtml = 'Like what you see? Visit the ' +\n",
              "            '<a target=\"_blank\" href=https://colab.research.google.com/notebooks/data_table.ipynb>data table notebook</a>'\n",
              "            + ' to learn more about interactive tables.';\n",
              "          element.innerHTML = '';\n",
              "          dataTable['output_type'] = 'display_data';\n",
              "          await google.colab.output.renderOutput(dataTable, element);\n",
              "          const docLink = document.createElement('div');\n",
              "          docLink.innerHTML = docLinkHtml;\n",
              "          element.appendChild(docLink);\n",
              "        }\n",
              "      </script>\n",
              "    </div>\n",
              "  </div>\n",
              "  "
            ]
          },
          "metadata": {},
          "execution_count": 13
        }
      ]
    },
    {
      "cell_type": "code",
      "source": [
        "df4.to_csv(f\"{year}_ratio.csv\", encoding=\"utf_8_sig\")"
      ],
      "metadata": {
        "id": "5GYR4t_465IO"
      },
      "execution_count": 14,
      "outputs": []
    },
    {
      "cell_type": "markdown",
      "source": [
        "# ダウンロード"
      ],
      "metadata": {
        "id": "VgFsDJGK7IJ-"
      }
    },
    {
      "cell_type": "code",
      "source": [
        "from google.colab import files"
      ],
      "metadata": {
        "id": "Di1p6Vhun3jX"
      },
      "execution_count": 15,
      "outputs": []
    },
    {
      "cell_type": "code",
      "source": [
        "files.download(f\"{year}_count.csv\")"
      ],
      "metadata": {
        "colab": {
          "base_uri": "https://localhost:8080/",
          "height": 17
        },
        "id": "MBTI5OeX7MZl",
        "outputId": "02c94de2-b577-4423-ee5a-44854cb11e97"
      },
      "execution_count": 16,
      "outputs": [
        {
          "output_type": "display_data",
          "data": {
            "text/plain": [
              "<IPython.core.display.Javascript object>"
            ],
            "application/javascript": [
              "\n",
              "    async function download(id, filename, size) {\n",
              "      if (!google.colab.kernel.accessAllowed) {\n",
              "        return;\n",
              "      }\n",
              "      const div = document.createElement('div');\n",
              "      const label = document.createElement('label');\n",
              "      label.textContent = `Downloading \"${filename}\": `;\n",
              "      div.appendChild(label);\n",
              "      const progress = document.createElement('progress');\n",
              "      progress.max = size;\n",
              "      div.appendChild(progress);\n",
              "      document.body.appendChild(div);\n",
              "\n",
              "      const buffers = [];\n",
              "      let downloaded = 0;\n",
              "\n",
              "      const channel = await google.colab.kernel.comms.open(id);\n",
              "      // Send a message to notify the kernel that we're ready.\n",
              "      channel.send({})\n",
              "\n",
              "      for await (const message of channel.messages) {\n",
              "        // Send a message to notify the kernel that we're ready.\n",
              "        channel.send({})\n",
              "        if (message.buffers) {\n",
              "          for (const buffer of message.buffers) {\n",
              "            buffers.push(buffer);\n",
              "            downloaded += buffer.byteLength;\n",
              "            progress.value = downloaded;\n",
              "          }\n",
              "        }\n",
              "      }\n",
              "      const blob = new Blob(buffers, {type: 'application/binary'});\n",
              "      const a = document.createElement('a');\n",
              "      a.href = window.URL.createObjectURL(blob);\n",
              "      a.download = filename;\n",
              "      div.appendChild(a);\n",
              "      a.click();\n",
              "      div.remove();\n",
              "    }\n",
              "  "
            ]
          },
          "metadata": {}
        },
        {
          "output_type": "display_data",
          "data": {
            "text/plain": [
              "<IPython.core.display.Javascript object>"
            ],
            "application/javascript": [
              "download(\"download_d8a60bc8-27ae-4c7e-b8cc-8dc805a1e724\", \"2019_count.csv\", 1307086)"
            ]
          },
          "metadata": {}
        }
      ]
    },
    {
      "cell_type": "code",
      "source": [
        "files.download(f\"{year}_ratio.csv\")"
      ],
      "metadata": {
        "colab": {
          "base_uri": "https://localhost:8080/",
          "height": 17
        },
        "id": "XDo1XNXI6_xt",
        "outputId": "bd5f2418-de3f-42e8-c473-8b35def72b61"
      },
      "execution_count": 17,
      "outputs": [
        {
          "output_type": "display_data",
          "data": {
            "text/plain": [
              "<IPython.core.display.Javascript object>"
            ],
            "application/javascript": [
              "\n",
              "    async function download(id, filename, size) {\n",
              "      if (!google.colab.kernel.accessAllowed) {\n",
              "        return;\n",
              "      }\n",
              "      const div = document.createElement('div');\n",
              "      const label = document.createElement('label');\n",
              "      label.textContent = `Downloading \"${filename}\": `;\n",
              "      div.appendChild(label);\n",
              "      const progress = document.createElement('progress');\n",
              "      progress.max = size;\n",
              "      div.appendChild(progress);\n",
              "      document.body.appendChild(div);\n",
              "\n",
              "      const buffers = [];\n",
              "      let downloaded = 0;\n",
              "\n",
              "      const channel = await google.colab.kernel.comms.open(id);\n",
              "      // Send a message to notify the kernel that we're ready.\n",
              "      channel.send({})\n",
              "\n",
              "      for await (const message of channel.messages) {\n",
              "        // Send a message to notify the kernel that we're ready.\n",
              "        channel.send({})\n",
              "        if (message.buffers) {\n",
              "          for (const buffer of message.buffers) {\n",
              "            buffers.push(buffer);\n",
              "            downloaded += buffer.byteLength;\n",
              "            progress.value = downloaded;\n",
              "          }\n",
              "        }\n",
              "      }\n",
              "      const blob = new Blob(buffers, {type: 'application/binary'});\n",
              "      const a = document.createElement('a');\n",
              "      a.href = window.URL.createObjectURL(blob);\n",
              "      a.download = filename;\n",
              "      div.appendChild(a);\n",
              "      a.click();\n",
              "      div.remove();\n",
              "    }\n",
              "  "
            ]
          },
          "metadata": {}
        },
        {
          "output_type": "display_data",
          "data": {
            "text/plain": [
              "<IPython.core.display.Javascript object>"
            ],
            "application/javascript": [
              "download(\"download_e4510861-4474-4c01-a21c-43e5e7fc25ae\", \"2019_ratio.csv\", 678097)"
            ]
          },
          "metadata": {}
        }
      ]
    }
  ]
}