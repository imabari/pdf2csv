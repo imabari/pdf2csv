{
  "nbformat": 4,
  "nbformat_minor": 0,
  "metadata": {
    "colab": {
      "name": "icdcode_pdf2csv.ipynb",
      "provenance": [],
      "authorship_tag": "ABX9TyNZNJadnZFRDacMDLkwwP4P",
      "include_colab_link": true
    },
    "kernelspec": {
      "name": "python3",
      "display_name": "Python 3"
    },
    "language_info": {
      "name": "python"
    }
  },
  "cells": [
    {
      "cell_type": "markdown",
      "metadata": {
        "id": "view-in-github",
        "colab_type": "text"
      },
      "source": [
        "<a href=\"https://colab.research.google.com/github/imabari/pdf2csv/blob/main/icdcode_pdf2csv.ipynb\" target=\"_parent\"><img src=\"https://colab.research.google.com/assets/colab-badge.svg\" alt=\"Open In Colab\"/></a>"
      ]
    },
    {
      "cell_type": "markdown",
      "source": [
        "DPC導入の影響評価に係る調査関連情報からPDFをダウンロード\n",
        "\n",
        "https://www01.prrism.com/dpc/2021/top.html"
      ],
      "metadata": {
        "id": "cDyvDeEJChQb"
      }
    },
    {
      "cell_type": "markdown",
      "source": [
        "# 実行方法\n",
        "\n",
        "1. 上の「Open in Colab」をクリック（Googleアカウント必要）\n",
        "2. ページ番号を入力にページ範囲を入力\n",
        "3. 上部メニューより「ランタイム」を選択\n",
        "4. 「すべてのセルを実行」を選択\n",
        "5. ファイルをアップロードのところで停止しているのでPDFをアップロード\n",
        "6. PDFからCSVに変換\n",
        "7. 変換終了後「result.csv」が自動ダウンロードされます"
      ],
      "metadata": {
        "id": "iRfF-N4CBQOG"
      }
    },
    {
      "cell_type": "markdown",
      "source": [
        "### ページ番号を入力"
      ],
      "metadata": {
        "id": "OKlUHPxyAWOb"
      }
    },
    {
      "cell_type": "code",
      "source": [
        "pages = \"145-168\" #@param {type:\"string\"}\n"
      ],
      "metadata": {
        "cellView": "form",
        "id": "_9GLBAonAJC0"
      },
      "execution_count": null,
      "outputs": []
    },
    {
      "cell_type": "markdown",
      "source": [
        "### ファイルをアップロード"
      ],
      "metadata": {
        "id": "1DPBFsfqAcy8"
      }
    },
    {
      "cell_type": "code",
      "source": [
        "from google.colab import files"
      ],
      "metadata": {
        "id": "9n0tOlImAhp7"
      },
      "execution_count": null,
      "outputs": []
    },
    {
      "cell_type": "code",
      "source": [
        "uploaded = files.upload()\n",
        "\n",
        "for fn in uploaded.keys():\n",
        "  print('User uploaded file \"{name}\" with length {length} bytes'.format(\n",
        "      name=fn, length=len(uploaded[fn])))"
      ],
      "metadata": {
        "id": "OKMS4XH2AoMz"
      },
      "execution_count": null,
      "outputs": []
    },
    {
      "cell_type": "markdown",
      "source": [
        "### プログラム"
      ],
      "metadata": {
        "id": "xaztQVuNAtwb"
      }
    },
    {
      "cell_type": "code",
      "source": [
        "!apt update\n",
        "!apt install ghostscript\n",
        "!pip install camelot-py[cv]"
      ],
      "metadata": {
        "id": "B4x06B4I4GTe"
      },
      "execution_count": null,
      "outputs": []
    },
    {
      "cell_type": "code",
      "source": [
        "import camelot\n",
        "import pandas as pd"
      ],
      "metadata": {
        "id": "6WborrWL4GTm"
      },
      "execution_count": null,
      "outputs": []
    },
    {
      "cell_type": "code",
      "source": [
        "tables = camelot.read_pdf(fn, pages=pages, split_text=True)"
      ],
      "metadata": {
        "id": "zkEf3GOB4f6l"
      },
      "execution_count": null,
      "outputs": []
    },
    {
      "cell_type": "code",
      "source": [
        "dfs = [pd.DataFrame(table.data[1:], columns=table.data[0]) for table in tables]"
      ],
      "metadata": {
        "id": "irEm6_2c-BZz"
      },
      "execution_count": null,
      "outputs": []
    },
    {
      "cell_type": "code",
      "source": [
        "df = pd.concat(dfs).reset_index(drop=True)"
      ],
      "metadata": {
        "id": "gEuMg1XJ5Aoi"
      },
      "execution_count": null,
      "outputs": []
    },
    {
      "cell_type": "code",
      "source": [
        "df.columns = df.columns.str.replace(\"\\s\", \"\", regex=True)"
      ],
      "metadata": {
        "id": "gQ7uz6kv-Zpj"
      },
      "execution_count": null,
      "outputs": []
    },
    {
      "cell_type": "code",
      "source": [
        "df.mask(df==\"\", inplace=True)"
      ],
      "metadata": {
        "id": "A-tPSDkb3dzO"
      },
      "execution_count": null,
      "outputs": []
    },
    {
      "cell_type": "code",
      "source": [
        "df.dropna(thresh=3, inplace=True)"
      ],
      "metadata": {
        "id": "E_cdL-tx37FO"
      },
      "execution_count": null,
      "outputs": []
    },
    {
      "cell_type": "code",
      "source": [
        "df"
      ],
      "metadata": {
        "id": "9SGvJOVP5Fdy"
      },
      "execution_count": null,
      "outputs": []
    },
    {
      "cell_type": "code",
      "source": [
        "df.to_csv(\"result.csv\", encoding=\"utf_8_sig\", index=False)"
      ],
      "metadata": {
        "id": "DrjbVab1-7Kz"
      },
      "execution_count": null,
      "outputs": []
    },
    {
      "cell_type": "markdown",
      "source": [
        "### ダウンロード"
      ],
      "metadata": {
        "id": "b2cO1aHmA3ta"
      }
    },
    {
      "cell_type": "code",
      "source": [
        "files.download(\"result.csv\")"
      ],
      "metadata": {
        "id": "_3K2A_ONA8uj"
      },
      "execution_count": null,
      "outputs": []
    }
  ]
}